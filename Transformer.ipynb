{
 "cells": [
  {
   "cell_type": "code",
   "execution_count": 1,
   "id": "7d3c3fe6",
   "metadata": {},
   "outputs": [],
   "source": [
    "import pandas as pd \n",
    "import numpy as np \n",
    "import seaborn as sns \n",
    "import matplotlib.pyplot as plt \n",
    "%matplotlib inline \n",
    "\n",
    "import warnings\n",
    "warnings.filterwarnings('ignore')"
   ]
  },
  {
   "cell_type": "code",
   "execution_count": 2,
   "id": "ffeaeb61",
   "metadata": {},
   "outputs": [
    {
     "data": {
      "text/html": [
       "<div>\n",
       "<style scoped>\n",
       "    .dataframe tbody tr th:only-of-type {\n",
       "        vertical-align: middle;\n",
       "    }\n",
       "\n",
       "    .dataframe tbody tr th {\n",
       "        vertical-align: top;\n",
       "    }\n",
       "\n",
       "    .dataframe thead th {\n",
       "        text-align: right;\n",
       "    }\n",
       "</style>\n",
       "<table border=\"1\" class=\"dataframe\">\n",
       "  <thead>\n",
       "    <tr style=\"text-align: right;\">\n",
       "      <th></th>\n",
       "      <th>Age</th>\n",
       "      <th>InfraredScanResults</th>\n",
       "      <th>VisualConditions</th>\n",
       "      <th>Pad</th>\n",
       "      <th>Loading</th>\n",
       "      <th>HealthIndex</th>\n",
       "    </tr>\n",
       "  </thead>\n",
       "  <tbody>\n",
       "    <tr>\n",
       "      <th>0</th>\n",
       "      <td>45</td>\n",
       "      <td>0.90</td>\n",
       "      <td>Serious Defects</td>\n",
       "      <td>Serious Defects</td>\n",
       "      <td>53.26</td>\n",
       "      <td>0.8</td>\n",
       "    </tr>\n",
       "    <tr>\n",
       "      <th>1</th>\n",
       "      <td>23</td>\n",
       "      <td>0.04</td>\n",
       "      <td>Moderate Defects</td>\n",
       "      <td>Moderate Defects</td>\n",
       "      <td>21.30</td>\n",
       "      <td>4.0</td>\n",
       "    </tr>\n",
       "    <tr>\n",
       "      <th>2</th>\n",
       "      <td>16</td>\n",
       "      <td>0.01</td>\n",
       "      <td>Minor Defects</td>\n",
       "      <td>Moderate Defects</td>\n",
       "      <td>24.90</td>\n",
       "      <td>5.0</td>\n",
       "    </tr>\n",
       "    <tr>\n",
       "      <th>3</th>\n",
       "      <td>46</td>\n",
       "      <td>0.99</td>\n",
       "      <td>Serious Defects</td>\n",
       "      <td>Serious Defects</td>\n",
       "      <td>55.59</td>\n",
       "      <td>0.8</td>\n",
       "    </tr>\n",
       "    <tr>\n",
       "      <th>4</th>\n",
       "      <td>33</td>\n",
       "      <td>0.22</td>\n",
       "      <td>Significant Defects</td>\n",
       "      <td>Serious Defects</td>\n",
       "      <td>34.46</td>\n",
       "      <td>2.1</td>\n",
       "    </tr>\n",
       "  </tbody>\n",
       "</table>\n",
       "</div>"
      ],
      "text/plain": [
       "   Age  InfraredScanResults     VisualConditions               Pad  Loading  \\\n",
       "0   45                 0.90      Serious Defects   Serious Defects    53.26   \n",
       "1   23                 0.04     Moderate Defects  Moderate Defects    21.30   \n",
       "2   16                 0.01        Minor Defects  Moderate Defects    24.90   \n",
       "3   46                 0.99      Serious Defects   Serious Defects    55.59   \n",
       "4   33                 0.22  Significant Defects   Serious Defects    34.46   \n",
       "\n",
       "   HealthIndex  \n",
       "0          0.8  \n",
       "1          4.0  \n",
       "2          5.0  \n",
       "3          0.8  \n",
       "4          2.1  "
      ]
     },
     "execution_count": 2,
     "metadata": {},
     "output_type": "execute_result"
    }
   ],
   "source": [
    "df = pd.read_csv('UG-Transformer-37.5kVA.csv')\n",
    "df = df.drop(['ID'],axis=1)\n",
    "df.head()"
   ]
  },
  {
   "cell_type": "code",
   "execution_count": 3,
   "id": "407f33d8",
   "metadata": {},
   "outputs": [
    {
     "data": {
      "text/html": [
       "<div>\n",
       "<style scoped>\n",
       "    .dataframe tbody tr th:only-of-type {\n",
       "        vertical-align: middle;\n",
       "    }\n",
       "\n",
       "    .dataframe tbody tr th {\n",
       "        vertical-align: top;\n",
       "    }\n",
       "\n",
       "    .dataframe thead th {\n",
       "        text-align: right;\n",
       "    }\n",
       "</style>\n",
       "<table border=\"1\" class=\"dataframe\">\n",
       "  <thead>\n",
       "    <tr style=\"text-align: right;\">\n",
       "      <th></th>\n",
       "      <th>Age</th>\n",
       "      <th>InfraredScanResults</th>\n",
       "      <th>Loading</th>\n",
       "      <th>HealthIndex</th>\n",
       "    </tr>\n",
       "  </thead>\n",
       "  <tbody>\n",
       "    <tr>\n",
       "      <th>count</th>\n",
       "      <td>4640.000000</td>\n",
       "      <td>4640.000000</td>\n",
       "      <td>4640.000000</td>\n",
       "      <td>4640.000000</td>\n",
       "    </tr>\n",
       "    <tr>\n",
       "      <th>mean</th>\n",
       "      <td>31.323276</td>\n",
       "      <td>0.356970</td>\n",
       "      <td>36.869252</td>\n",
       "      <td>2.595409</td>\n",
       "    </tr>\n",
       "    <tr>\n",
       "      <th>std</th>\n",
       "      <td>11.606625</td>\n",
       "      <td>0.357618</td>\n",
       "      <td>10.920859</td>\n",
       "      <td>1.445780</td>\n",
       "    </tr>\n",
       "    <tr>\n",
       "      <th>min</th>\n",
       "      <td>15.000000</td>\n",
       "      <td>0.010000</td>\n",
       "      <td>18.000000</td>\n",
       "      <td>0.100000</td>\n",
       "    </tr>\n",
       "    <tr>\n",
       "      <th>25%</th>\n",
       "      <td>18.000000</td>\n",
       "      <td>0.010000</td>\n",
       "      <td>27.567500</td>\n",
       "      <td>1.300000</td>\n",
       "    </tr>\n",
       "    <tr>\n",
       "      <th>50%</th>\n",
       "      <td>33.000000</td>\n",
       "      <td>0.210000</td>\n",
       "      <td>36.925000</td>\n",
       "      <td>2.600000</td>\n",
       "    </tr>\n",
       "    <tr>\n",
       "      <th>75%</th>\n",
       "      <td>43.000000</td>\n",
       "      <td>0.680000</td>\n",
       "      <td>46.022500</td>\n",
       "      <td>3.900000</td>\n",
       "    </tr>\n",
       "    <tr>\n",
       "      <th>max</th>\n",
       "      <td>46.000000</td>\n",
       "      <td>1.000000</td>\n",
       "      <td>56.000000</td>\n",
       "      <td>5.000000</td>\n",
       "    </tr>\n",
       "  </tbody>\n",
       "</table>\n",
       "</div>"
      ],
      "text/plain": [
       "               Age  InfraredScanResults      Loading  HealthIndex\n",
       "count  4640.000000          4640.000000  4640.000000  4640.000000\n",
       "mean     31.323276             0.356970    36.869252     2.595409\n",
       "std      11.606625             0.357618    10.920859     1.445780\n",
       "min      15.000000             0.010000    18.000000     0.100000\n",
       "25%      18.000000             0.010000    27.567500     1.300000\n",
       "50%      33.000000             0.210000    36.925000     2.600000\n",
       "75%      43.000000             0.680000    46.022500     3.900000\n",
       "max      46.000000             1.000000    56.000000     5.000000"
      ]
     },
     "execution_count": 3,
     "metadata": {},
     "output_type": "execute_result"
    }
   ],
   "source": [
    "df.describe()"
   ]
  },
  {
   "cell_type": "code",
   "execution_count": 4,
   "id": "012d3e35",
   "metadata": {},
   "outputs": [
    {
     "data": {
      "text/plain": [
       "Index(['Age', 'InfraredScanResults', 'VisualConditions', 'Pad', 'Loading',\n",
       "       'HealthIndex'],\n",
       "      dtype='object')"
      ]
     },
     "execution_count": 4,
     "metadata": {},
     "output_type": "execute_result"
    }
   ],
   "source": [
    "df.columns"
   ]
  },
  {
   "cell_type": "code",
   "execution_count": 5,
   "id": "47f1dc42",
   "metadata": {},
   "outputs": [
    {
     "name": "stdout",
     "output_type": "stream",
     "text": [
      "Maximum Loading : 56.0\n",
      "Maximum Loading : 18.0\n",
      "Maximum Loading : 36.86925215517246\n"
     ]
    }
   ],
   "source": [
    "print(\"Maximum Loading :\",df['Loading'].max())\n",
    "print(\"Maximum Loading :\",df['Loading'].min()) \n",
    "print(\"Maximum Loading :\",df['Loading'].mean())"
   ]
  },
  {
   "cell_type": "code",
   "execution_count": 6,
   "id": "3afdc4ec",
   "metadata": {},
   "outputs": [
    {
     "data": {
      "text/plain": [
       "Serious Defects        2474\n",
       "Moderate Defects       1437\n",
       "Significant Defects     729\n",
       "Name: Pad, dtype: int64"
      ]
     },
     "execution_count": 6,
     "metadata": {},
     "output_type": "execute_result"
    }
   ],
   "source": [
    "df['Pad'].value_counts()"
   ]
  },
  {
   "cell_type": "code",
   "execution_count": 7,
   "id": "be67ecbf",
   "metadata": {
    "scrolled": true
   },
   "outputs": [
    {
     "data": {
      "text/plain": [
       "Serious Defects        1928\n",
       "Significant Defects    1008\n",
       "Minor Defects           990\n",
       "Moderate Defects        714\n",
       "Name: VisualConditions, dtype: int64"
      ]
     },
     "execution_count": 7,
     "metadata": {},
     "output_type": "execute_result"
    }
   ],
   "source": [
    "df['VisualConditions'].value_counts()"
   ]
  },
  {
   "cell_type": "code",
   "execution_count": 8,
   "id": "a427768a",
   "metadata": {},
   "outputs": [
    {
     "data": {
      "text/plain": [
       "Age                    0\n",
       "InfraredScanResults    0\n",
       "VisualConditions       0\n",
       "Pad                    0\n",
       "Loading                0\n",
       "HealthIndex            0\n",
       "dtype: int64"
      ]
     },
     "execution_count": 8,
     "metadata": {},
     "output_type": "execute_result"
    }
   ],
   "source": [
    "df.isnull().sum()"
   ]
  },
  {
   "cell_type": "code",
   "execution_count": 9,
   "id": "7afba3f7",
   "metadata": {},
   "outputs": [],
   "source": [
    "df[\"VisualConditions\"].replace({\"Moderate Defects\":0 ,\"Minor Defects\":1 ,\"Significant Defects\":2,\"Serious Defects\":3} , inplace=True)\n",
    "df[\"Pad\"].replace({\"Significant Defects\":0 ,\"Moderate Defects\":1 ,\"Serious Defects\":2} , inplace=True)"
   ]
  },
  {
   "cell_type": "code",
   "execution_count": 10,
   "id": "0848468b",
   "metadata": {},
   "outputs": [
    {
     "data": {
      "text/html": [
       "<div>\n",
       "<style scoped>\n",
       "    .dataframe tbody tr th:only-of-type {\n",
       "        vertical-align: middle;\n",
       "    }\n",
       "\n",
       "    .dataframe tbody tr th {\n",
       "        vertical-align: top;\n",
       "    }\n",
       "\n",
       "    .dataframe thead th {\n",
       "        text-align: right;\n",
       "    }\n",
       "</style>\n",
       "<table border=\"1\" class=\"dataframe\">\n",
       "  <thead>\n",
       "    <tr style=\"text-align: right;\">\n",
       "      <th></th>\n",
       "      <th>Age</th>\n",
       "      <th>InfraredScanResults</th>\n",
       "      <th>VisualConditions</th>\n",
       "      <th>Pad</th>\n",
       "      <th>Loading</th>\n",
       "      <th>HealthIndex</th>\n",
       "    </tr>\n",
       "  </thead>\n",
       "  <tbody>\n",
       "    <tr>\n",
       "      <th>0</th>\n",
       "      <td>45</td>\n",
       "      <td>0.90</td>\n",
       "      <td>3</td>\n",
       "      <td>2</td>\n",
       "      <td>53.26</td>\n",
       "      <td>0.8</td>\n",
       "    </tr>\n",
       "    <tr>\n",
       "      <th>1</th>\n",
       "      <td>23</td>\n",
       "      <td>0.04</td>\n",
       "      <td>0</td>\n",
       "      <td>1</td>\n",
       "      <td>21.30</td>\n",
       "      <td>4.0</td>\n",
       "    </tr>\n",
       "    <tr>\n",
       "      <th>2</th>\n",
       "      <td>16</td>\n",
       "      <td>0.01</td>\n",
       "      <td>1</td>\n",
       "      <td>1</td>\n",
       "      <td>24.90</td>\n",
       "      <td>5.0</td>\n",
       "    </tr>\n",
       "    <tr>\n",
       "      <th>3</th>\n",
       "      <td>46</td>\n",
       "      <td>0.99</td>\n",
       "      <td>3</td>\n",
       "      <td>2</td>\n",
       "      <td>55.59</td>\n",
       "      <td>0.8</td>\n",
       "    </tr>\n",
       "    <tr>\n",
       "      <th>4</th>\n",
       "      <td>33</td>\n",
       "      <td>0.22</td>\n",
       "      <td>2</td>\n",
       "      <td>2</td>\n",
       "      <td>34.46</td>\n",
       "      <td>2.1</td>\n",
       "    </tr>\n",
       "  </tbody>\n",
       "</table>\n",
       "</div>"
      ],
      "text/plain": [
       "   Age  InfraredScanResults  VisualConditions  Pad  Loading  HealthIndex\n",
       "0   45                 0.90                 3    2    53.26          0.8\n",
       "1   23                 0.04                 0    1    21.30          4.0\n",
       "2   16                 0.01                 1    1    24.90          5.0\n",
       "3   46                 0.99                 3    2    55.59          0.8\n",
       "4   33                 0.22                 2    2    34.46          2.1"
      ]
     },
     "execution_count": 10,
     "metadata": {},
     "output_type": "execute_result"
    }
   ],
   "source": [
    "df.head()"
   ]
  },
  {
   "cell_type": "code",
   "execution_count": 11,
   "id": "015420e9",
   "metadata": {},
   "outputs": [],
   "source": [
    "X = df.drop(columns=['HealthIndex']).values\n",
    "y = np.log(df['HealthIndex'])"
   ]
  },
  {
   "cell_type": "code",
   "execution_count": 12,
   "id": "9f0418b0",
   "metadata": {},
   "outputs": [],
   "source": [
    "from sklearn.model_selection import train_test_split\n",
    "X_train,X_test,y_train,y_test = train_test_split(X,y,test_size=0.15,random_state=2)"
   ]
  },
  {
   "cell_type": "code",
   "execution_count": 13,
   "id": "09f77304",
   "metadata": {},
   "outputs": [],
   "source": [
    "from sklearn.compose import ColumnTransformer\n",
    "from sklearn.pipeline import Pipeline\n",
    "from sklearn.preprocessing import OneHotEncoder\n",
    "from sklearn.metrics import r2_score,mean_absolute_error"
   ]
  },
  {
   "cell_type": "code",
   "execution_count": 14,
   "id": "f5ff863e",
   "metadata": {},
   "outputs": [],
   "source": [
    "from sklearn.linear_model import LinearRegression,Ridge,Lasso\n",
    "from sklearn.neighbors import KNeighborsRegressor\n",
    "from sklearn.tree import DecisionTreeRegressor\n",
    "from sklearn.ensemble import RandomForestRegressor,GradientBoostingRegressor,AdaBoostRegressor,ExtraTreesRegressor\n",
    "from sklearn.svm import SVR"
   ]
  },
  {
   "cell_type": "code",
   "execution_count": 15,
   "id": "70d674ea",
   "metadata": {},
   "outputs": [
    {
     "data": {
      "text/plain": [
       "array([[1.600e+01, 1.000e-02, 0.000e+00, 1.000e+00, 4.108e+01],\n",
       "       [4.600e+01, 9.200e-01, 3.000e+00, 2.000e+00, 4.762e+01],\n",
       "       [4.600e+01, 9.600e-01, 3.000e+00, 2.000e+00, 5.600e+01],\n",
       "       ...,\n",
       "       [3.800e+01, 3.900e-01, 3.000e+00, 2.000e+00, 3.331e+01],\n",
       "       [3.300e+01, 2.000e-01, 2.000e+00, 2.000e+00, 1.924e+01],\n",
       "       [4.500e+01, 8.900e-01, 3.000e+00, 2.000e+00, 3.124e+01]])"
      ]
     },
     "execution_count": 15,
     "metadata": {},
     "output_type": "execute_result"
    }
   ],
   "source": [
    "X_train"
   ]
  },
  {
   "cell_type": "markdown",
   "id": "a9b9b064",
   "metadata": {},
   "source": [
    "### Linear regression"
   ]
  },
  {
   "cell_type": "code",
   "execution_count": 16,
   "id": "62d1c597",
   "metadata": {},
   "outputs": [
    {
     "name": "stdout",
     "output_type": "stream",
     "text": [
      "R2 score 0.8131902733193437\n",
      "MAE 0.23392612846754798\n"
     ]
    }
   ],
   "source": [
    "pipe = LinearRegression()\n",
    "pipe.fit(X_train,y_train)\n",
    "\n",
    "y_pred = pipe.predict(X_test)\n",
    "\n",
    "print('R2 score',r2_score(y_test,y_pred))\n",
    "print('MAE',mean_absolute_error(y_test,y_pred))"
   ]
  },
  {
   "cell_type": "markdown",
   "id": "d4e6d7be",
   "metadata": {},
   "source": [
    "### Exporting the Model"
   ]
  },
  {
   "cell_type": "code",
   "execution_count": 17,
   "id": "d35eb7b6",
   "metadata": {},
   "outputs": [],
   "source": [
    "import pickle\n",
    "\n",
    "pickle.dump(df,open('df.pkl','wb'))\n",
    "pickle.dump(pipe,open('pipe.pkl','wb'))"
   ]
  },
  {
   "cell_type": "code",
   "execution_count": null,
   "id": "275c1011",
   "metadata": {},
   "outputs": [],
   "source": []
  },
  {
   "cell_type": "code",
   "execution_count": null,
   "id": "94413adb",
   "metadata": {},
   "outputs": [],
   "source": []
  },
  {
   "cell_type": "code",
   "execution_count": null,
   "id": "1f69b4b2",
   "metadata": {},
   "outputs": [],
   "source": []
  },
  {
   "cell_type": "code",
   "execution_count": null,
   "id": "53662679",
   "metadata": {},
   "outputs": [],
   "source": []
  },
  {
   "cell_type": "code",
   "execution_count": null,
   "id": "6ab66eb4",
   "metadata": {},
   "outputs": [],
   "source": []
  }
 ],
 "metadata": {
  "kernelspec": {
   "display_name": "Python 3 (ipykernel)",
   "language": "python",
   "name": "python3"
  },
  "language_info": {
   "codemirror_mode": {
    "name": "ipython",
    "version": 3
   },
   "file_extension": ".py",
   "mimetype": "text/x-python",
   "name": "python",
   "nbconvert_exporter": "python",
   "pygments_lexer": "ipython3",
   "version": "3.9.13"
  }
 },
 "nbformat": 4,
 "nbformat_minor": 5
}
